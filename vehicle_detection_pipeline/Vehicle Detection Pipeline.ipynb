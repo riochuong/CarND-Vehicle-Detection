{
 "cells": [
  {
   "cell_type": "code",
   "execution_count": 3,
   "metadata": {},
   "outputs": [],
   "source": [
    "from vehicle_detection_pipeline import *\n",
    "import numpy as np\n",
    "import matplotlib.pyplot as plt\n",
    "import matplotlib.image as mpimg\n",
    "import os\n",
    "import cv2\n",
    "class VehicleDetectionPipeline(object):\n",
    "    def __init__(self, model_file, scaler_file, \n",
    "                 orient=9, pix_per_cell=8, cell_per_block=2, hist_bins=32, cell_per_step=1, threshold=7):\n",
    "        self.svc_model = None\n",
    "        self.scaler = None\n",
    "        assert(os.path.exists(model_file))\n",
    "        assert(os.path.exists(scaler_file))\n",
    "        with open(model_file, 'rb') as f:\n",
    "            self.svc_model = pickle.load(f)\n",
    "        with open(scaler_file, 'rb') as f:\n",
    "            self.scaler = pickle.load(f)\n",
    "        self.heat_map = None\n",
    "        self.scales = [1, 1.5, 2]\n",
    "        self.orient = orient\n",
    "        self.pix_per_cell = pix_per_cell\n",
    "        self.cell_per_block = cell_per_block\n",
    "        self.hist_bins = hist_bins\n",
    "        self.cell_per_step = cells_per_step\n",
    "        self.threshold = threshold\n",
    "        \n",
    "        \n",
    "    \n",
    "    def run(self, video_file):\n",
    "        assert os.path.exists(video_file)\n",
    "        print (\"Start Video Processing\")\n",
    "        # open the video and feed the frame here\n",
    "        cap = cv2.VideoCapture(video_file)\n",
    "        while cap.isOpened():\n",
    "            ret, orig_frame = cap.read()\n",
    "            # if frame is valid then run it through the pipe line\n",
    "            if not ret:\n",
    "                continue\n",
    "            # run sliding windows on the interest area of each frame \n",
    "            if self.heat_map is None:\n",
    "                self.heat_map = np.zeros((orig_frame.shape[0], orig_frame.shape[1]))\n",
    "            ystart = orig_frame.shape[1]//4\n",
    "            ystop = orig_frame.shape[1]\n",
    "            print(ystart,ystop)\n",
    "            scale = 2\n",
    "            for scale in self.scales:\n",
    "                self.heat_map, labels = slide_windows_and_update_heat_map(orig_frame, \n",
    "                                                      ystart,\n",
    "                                                      ystop, \n",
    "                                                      scale, \n",
    "                                                      self.svc_model,\n",
    "                                                      self.scaler, \n",
    "                                                      self.orient,\n",
    "                                                      self.pix_per_cell,\n",
    "                                                      self.cell_per_block,\n",
    "                                                      self.spatial_size, \n",
    "                                                      self.hist_bins,\n",
    "                                                      window_size=64,\n",
    "                                                      cell_per_step=self.cells_per_step,\n",
    "                                                      threshold=self.threshold,\n",
    "                                                      heat_map=self.heat_map)\n",
    "            \n",
    "            # run pipeline here\n",
    "            # extract hog and color features\n",
    "            # run through classifier \n",
    "            # update heat map\n",
    "            # from heat_map draw bounding box on current frame.\n",
    "\n",
    "        "
   ]
  },
  {
   "cell_type": "code",
   "execution_count": null,
   "metadata": {
    "collapsed": true
   },
   "outputs": [],
   "source": []
  },
  {
   "cell_type": "code",
   "execution_count": null,
   "metadata": {
    "collapsed": true
   },
   "outputs": [],
   "source": []
  },
  {
   "cell_type": "code",
   "execution_count": null,
   "metadata": {
    "collapsed": true
   },
   "outputs": [],
   "source": []
  }
 ],
 "metadata": {
  "kernelspec": {
   "display_name": "Python 3",
   "language": "python",
   "name": "python3"
  },
  "language_info": {
   "codemirror_mode": {
    "name": "ipython",
    "version": 3
   },
   "file_extension": ".py",
   "mimetype": "text/x-python",
   "name": "python",
   "nbconvert_exporter": "python",
   "pygments_lexer": "ipython3",
   "version": "3.5.2"
  },
  "widgets": {
   "state": {},
   "version": "1.1.2"
  }
 },
 "nbformat": 4,
 "nbformat_minor": 2
}
