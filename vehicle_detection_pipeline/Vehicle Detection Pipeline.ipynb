{
 "cells": [
  {
   "cell_type": "code",
   "execution_count": 3,
   "metadata": {},
   "outputs": [],
   "source": [
    "from vehicle_detection_pipeline import *\n",
    "import numpy as np\n",
    "import matplotlib.pyplot as plt\n",
    "import matplotlib.image as mpimg\n",
    "import os\n",
    "import cv2\n",
    "class VehicleDetectionPipeline(object):\n",
    "    def __init__(self):\n",
    "        pass\n",
    "    \n",
    "    def run(self, video_file):\n",
    "        assert os.path.exists(video_file)\n",
    "        print (\"Start Video Processing\")\n",
    "        # open the video and feed the frame here\n",
    "        cap = cv2.VideoCapture(video_file)\n",
    "        while cap.isOpened():\n",
    "            ret, orig_frame = cap.read()\n",
    "            # if frame is valid then run it through the pipe line\n",
    "            if not ret:\n",
    "                continue\n",
    "            # run sliding windows on the interest area of each frame \n",
    "            height = orig_frame[0]\n",
    "            width = orig_frame[1]\n",
    "            # run pipeline here\n",
    "            # extract hog and color features\n",
    "            \n",
    "            # run through classifier \n",
    "            # update heat map\n",
    "            # from heat_map draw bounding box on current frame.\n",
    "\n",
    "        "
   ]
  },
  {
   "cell_type": "code",
   "execution_count": null,
   "metadata": {},
   "outputs": [],
   "source": []
  }
 ],
 "metadata": {
  "kernelspec": {
   "display_name": "Python 3",
   "language": "python",
   "name": "python3"
  },
  "language_info": {
   "codemirror_mode": {
    "name": "ipython",
    "version": 3
   },
   "file_extension": ".py",
   "mimetype": "text/x-python",
   "name": "python",
   "nbconvert_exporter": "python",
   "pygments_lexer": "ipython3",
   "version": "3.5.2"
  },
  "widgets": {
   "state": {},
   "version": "1.1.2"
  }
 },
 "nbformat": 4,
 "nbformat_minor": 2
}
